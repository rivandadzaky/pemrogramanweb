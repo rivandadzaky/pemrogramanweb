{
  "nbformat": 4,
  "nbformat_minor": 0,
  "metadata": {
    "colab": {
      "provenance": [],
      "authorship_tag": "ABX9TyPIBF8VymieuiKfAta8BVlh",
      "include_colab_link": true
    },
    "kernelspec": {
      "name": "python3",
      "display_name": "Python 3"
    },
    "language_info": {
      "name": "python"
    }
  },
  "cells": [
    {
      "cell_type": "markdown",
      "metadata": {
        "id": "view-in-github",
        "colab_type": "text"
      },
      "source": [
        "<a href=\"https://colab.research.google.com/github/rivandadzaky/pemrogramanweb/blob/master/Coba1.ipynb\" target=\"_parent\"><img src=\"https://colab.research.google.com/assets/colab-badge.svg\" alt=\"Open In Colab\"/></a>"
      ]
    },
    {
      "cell_type": "code",
      "execution_count": 1,
      "metadata": {
        "id": "4HJkbm5RGT0S"
      },
      "outputs": [],
      "source": [
        "peta={\n",
        "    'A':['B'],\n",
        "    'B':['C', 'A'],\n",
        "    'C':['B', 'I', 'H', 'D'],\n",
        "    'D':['C', 'H', 'F', 'E'],\n",
        "    'E':['D'],\n",
        "    'F':['D', 'G'],\n",
        "    'G':['H', 'F'],\n",
        "    'H':['C', 'L', 'G', 'D'],\n",
        "    'I':['C', 'J', 'K'],\n",
        "    'J':['I'],\n",
        "    'K':['I', 'L'],\n",
        "    'L':['K', 'H']\n",
        "}"
      ]
    },
    {
      "cell_type": "code",
      "source": [
        "def bfs(gambar, mulai):\n",
        "  hasilNode=[]\n",
        "  antrian=[mulai]\n",
        "\n",
        "  while antrian:\n",
        "    prosesNode = antrian.pop(0)\n",
        "    hasilNode.append(prosesNode)\n",
        "    for tetangga in gambar[prosesNode]:\n",
        "      if tetangga not in hasilNode:\n",
        "        antrian.append(tetangga)\n",
        "  return hasilNode\n",
        "\n",
        "def bfs_goal(gambar, mulai, tujuan):\n",
        "  hasilNode=[]\n",
        "  antrian=[mulai]\n",
        "  jalurNode={}\n",
        "\n",
        "  while antrian:\n",
        "    prosesNode = antrian.pop(0)\n",
        "    hasilNode.append(prosesNode)\n",
        "    for tetangga in gambar[prosesNode]:\n",
        "      if tetangga not in hasilNode:\n",
        "        antrian.append(tetangga)\n",
        "        jalurNode[tetangga]=prosesNode\n",
        "  print(bfs_jalur(jalurNode,mulai,tujuan))\n",
        "\n",
        "def bfs_jalur(jalurNode, mulai, tujuan):\n",
        "  jalur=[tujuan]\n",
        "  prosesNode=tujuan\n",
        "\n",
        "  while prosesNode != mulai:\n",
        "    prosesNode=jalurNode[prosesNode]\n",
        "    jalur.append(prosesNode)\n",
        "  jalur.reverse()\n",
        "\n",
        "  return jalur"
      ],
      "metadata": {
        "id": "4FcPzHC9GfUb"
      },
      "execution_count": 2,
      "outputs": []
    },
    {
      "cell_type": "code",
      "source": [
        "bfs_goal(peta,'C', 'L')"
      ],
      "metadata": {
        "colab": {
          "base_uri": "https://localhost:8080/"
        },
        "id": "zEHIwhS2Gow3",
        "outputId": "d2442a39-6856-4523-8b72-ccaab6a9a7d0"
      },
      "execution_count": 3,
      "outputs": [
        {
          "output_type": "stream",
          "name": "stdout",
          "text": [
            "['C', 'I', 'K', 'L']\n"
          ]
        }
      ]
    }
  ]
}